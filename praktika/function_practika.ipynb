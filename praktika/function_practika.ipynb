{
 "cells": [
  {
   "cell_type": "markdown",
   "metadata": {},
   "source": [
    "Вы работаете секретарем и вам постоянно приходят различные документы. Вы должны быть очень внимательны, чтобы не потерять ни один документ. Каталог документов хранится в следующем виде:"
   ]
  },
  {
   "cell_type": "code",
   "execution_count": 10,
   "metadata": {},
   "outputs": [],
   "source": [
    "documents = [\n",
    "    {'type': 'passport', 'number': '2207 876234', 'name': 'Василий Гупкин'},\n",
    "    {'type': 'invoice', 'number': '11-2', 'name': 'Геннадий Покемонов'},\n",
    "    {'type': 'insurance', 'number': '10006', 'name': 'Аристарх Павлов'}\n",
    "]"
   ]
  },
  {
   "cell_type": "code",
   "execution_count": 11,
   "metadata": {},
   "outputs": [],
   "source": [
    "def print_documents(documents):\n",
    "    for doc in documents:\n",
    "        print(doc)"
   ]
  },
  {
   "cell_type": "markdown",
   "metadata": {},
   "source": [
    "Перечень полок, на которых находятся документы хранится в следующем виде:"
   ]
  },
  {
   "cell_type": "code",
   "execution_count": 12,
   "metadata": {},
   "outputs": [],
   "source": [
    "directories = {\n",
    "    '1': ['2207 876234', '11-2'],\n",
    "    '2': ['10006'],\n",
    "    '3': []\n",
    "}"
   ]
  },
  {
   "cell_type": "code",
   "execution_count": 13,
   "metadata": {},
   "outputs": [],
   "source": [
    "def print_directories(directories):\n",
    "    for key,value in directories.items():\n",
    "        print(key,value)"
   ]
  },
  {
   "cell_type": "code",
   "execution_count": 14,
   "metadata": {},
   "outputs": [],
   "source": [
    "def people(num):\n",
    "    for value in documents:\n",
    "        if str(num) in value['number']:\n",
    "            return value['name']\n",
    "    return None"
   ]
  },
  {
   "cell_type": "code",
   "execution_count": 15,
   "metadata": {},
   "outputs": [],
   "source": [
    "def shelf(num):\n",
    "    for value in directories.items():\n",
    "        if str(num) in value[1]:\n",
    "            return value[0]\n",
    "    return None"
   ]
  },
  {
   "cell_type": "code",
   "execution_count": 16,
   "metadata": {},
   "outputs": [],
   "source": [
    "def list():\n",
    "     for value in documents:\n",
    "        print(value['type']+'\"'+value['number']+'\"\"'+value['name']+'\"\\n')"
   ]
  },
  {
   "cell_type": "code",
   "execution_count": 24,
   "metadata": {},
   "outputs": [],
   "source": [
    "def check_shelf(newshelf):\n",
    "    for key in directories:\n",
    "        if key==str(newshelf):\n",
    "            return False\n",
    "    return True\n",
    "def add_shelf(newshelf):\n",
    "    if check_shelf(newshelf):\n",
    "        directories[newshelf]=''\n",
    "        print('Полка добавлена')\n",
    "    else:\n",
    "        print('Данная полка уже существует.')"
   ]
  },
  {
   "cell_type": "code",
   "execution_count": 36,
   "metadata": {},
   "outputs": [],
   "source": [
    "def add_new_doc():\n",
    "    newsh=input('Введите номер полки: ')\n",
    "    if not check_shelf(newsh):\n",
    "        print('Данной полки нет')\n",
    "    else:\n",
    "        newtype=input('Введите новый тип документа: ')\n",
    "        newnumdoc=input('Введите новый номер документа: ')\n",
    "        newname=input('Введите новое имя: ')\n",
    "        new={'type': newtype, 'number': newnumdoc, 'name': newname}\n",
    "        documents.append(new)\n",
    "        directories[newsh] += [newnumdoc]\n",
    "        print('Документ добавлен в каталог')"
   ]
  },
  {
   "cell_type": "code",
   "execution_count": 47,
   "metadata": {},
   "outputs": [],
   "source": [
    "def delet():\n",
    "    numdel=str(input('Какой документ удалить? Введите номер: '))\n",
    "    for numb,doc in enumerate(documents):\n",
    "        if numdel==doc['number']:\n",
    "            del documents[numb]\n",
    "            break\n",
    "    for value in directories.values():\n",
    "        if numdel in value:\n",
    "            value.remove(numdel)\n",
    "    print('Документ удален')"
   ]
  },
  {
   "cell_type": "code",
   "execution_count": 51,
   "metadata": {},
   "outputs": [],
   "source": [
    "def menu():\n",
    "    print('Команды')\n",
    "    print('1 - p – people')\n",
    "    print('2 - s – shelf')\n",
    "    print('3 - l – list')\n",
    "    print('4 - as – add shelf')\n",
    "    print('5 - d – delete')\n",
    "    print('6 - add')\n",
    "    print('q - конец программы')"
   ]
  },
  {
   "cell_type": "code",
   "execution_count": 54,
   "metadata": {},
   "outputs": [],
   "source": [
    "def main():\n",
    "    while True:\n",
    "        menu()\n",
    "        user_input = input('Введите команду')\n",
    "        if user_input == '1':\n",
    "            num=input('Введите номер документа: ')\n",
    "            x=people(num)\n",
    "            print(x)\n",
    "        elif user_input == '2':\n",
    "            num=input('Введите номер документа: ')\n",
    "            x=shelf(num)\n",
    "            print(x)\n",
    "        elif user_input == '3':\n",
    "            list()\n",
    "        elif user_input=='4':\n",
    "            newshelf=str(input('Введите номер новой полки: '))\n",
    "            add_shelf(newshelf)\n",
    "        elif user_input=='5':\n",
    "            delet()\n",
    "        elif user_input=='6':\n",
    "            add_new_doc()\n",
    "        elif user_input == 'q':\n",
    "            break\n"
   ]
  },
  {
   "cell_type": "code",
   "execution_count": 56,
   "metadata": {},
   "outputs": [
    {
     "name": "stdout",
     "output_type": "stream",
     "text": [
      "Команды\n",
      "1 - p – people\n",
      "2 - s – shelf\n",
      "3 - l – list\n",
      "4 - as – add shelf\n",
      "5 - d – delete\n",
      "q - конец программы\n",
      "Введите команду1\n",
      "Введите номер документа: 10006\n",
      "Аристарх Павлов\n",
      "Команды\n",
      "1 - p – people\n",
      "2 - s – shelf\n",
      "3 - l – list\n",
      "4 - as – add shelf\n",
      "5 - d – delete\n",
      "q - конец программы\n",
      "Введите команду2\n",
      "Введите номер документа: 10006\n",
      "2\n",
      "Команды\n",
      "1 - p – people\n",
      "2 - s – shelf\n",
      "3 - l – list\n",
      "4 - as – add shelf\n",
      "5 - d – delete\n",
      "q - конец программы\n",
      "Введите команду3\n",
      "passport\"2207 876234\"\"Василий Гупкин\"\n",
      "\n",
      "invoice\"11-2\"\"Геннадий Покемонов\"\n",
      "\n",
      "insurance\"10006\"\"Аристарх Павлов\"\n",
      "\n",
      "dfrf\"1213\"\"ds\"\n",
      "\n",
      "Команды\n",
      "1 - p – people\n",
      "2 - s – shelf\n",
      "3 - l – list\n",
      "4 - as – add shelf\n",
      "5 - d – delete\n",
      "q - конец программы\n",
      "Введите команду4\n",
      "Введите номер новой полки: 6\n",
      "Полка добавлена\n",
      "Команды\n",
      "1 - p – people\n",
      "2 - s – shelf\n",
      "3 - l – list\n",
      "4 - as – add shelf\n",
      "5 - d – delete\n",
      "q - конец программы\n",
      "Введите команду5\n",
      "Какой документ удалить? Введите номер: 1213\n",
      "Документ удален\n",
      "Команды\n",
      "1 - p – people\n",
      "2 - s – shelf\n",
      "3 - l – list\n",
      "4 - as – add shelf\n",
      "5 - d – delete\n",
      "q - конец программы\n",
      "Введите команду3\n",
      "passport\"2207 876234\"\"Василий Гупкин\"\n",
      "\n",
      "invoice\"11-2\"\"Геннадий Покемонов\"\n",
      "\n",
      "insurance\"10006\"\"Аристарх Павлов\"\n",
      "\n",
      "Команды\n",
      "1 - p – people\n",
      "2 - s – shelf\n",
      "3 - l – list\n",
      "4 - as – add shelf\n",
      "5 - d – delete\n",
      "q - конец программы\n",
      "Введите командуq\n"
     ]
    }
   ],
   "source": [
    "main()"
   ]
  },
  {
   "cell_type": "markdown",
   "metadata": {},
   "source": [
    "Необходимо реализовать пользовательские команды (внимание! это не название функций, которые должны быть выразительными, а команды, которые вводит пользователь, чтобы получить необходимый результат):\n",
    "\n",
    "* p – people – команда, которая спросит номер документа и выведет имя человека, которому он принадлежит;\n",
    "* s – shelf – команда, которая спросит номер документа и выведет номер полки, на которой он находится\n",
    "Правильно обработайте ситуации, когда пользователь будет вводить несуществующий документ.\n",
    "* l – list – команда, которая выведет список всех документов в формате\n",
    "**passport \"2207 876234\" \"Василий Гупкин\"**\n",
    "* as – add shelf – команда, которая спросит номер новой полки и добавит ее в перечень. Предусмотрите случай, когда пользователь добавляет полку, которая уже существует.\n",
    "* d – delete – команда, которая спросит номер документа и удалит его из каталога и из перечня полок. Предусмотрите сценарий, когда пользователь вводит несуществующий документ;\n",
    "* m – move – команда, которая спросит номер документа и целевую полку и переместит его с текущей полки на целевую. Корректно обработайте кейсы, когда пользователь пытается переместить несуществующий документ или переместить документ на несуществующую полку;\n",
    "*  add – команда, которая добавит новый документ в каталог и в перечень полок, спросив его номер, тип, имя владельца и номер полки, на котором он будет храниться. Корректно обработайте ситуацию, когда пользователь будет пытаться добавить документ на несуществующую полку."
   ]
  },
  {
   "cell_type": "code",
   "execution_count": null,
   "metadata": {},
   "outputs": [],
   "source": []
  }
 ],
 "metadata": {
  "kernelspec": {
   "display_name": "Python 3",
   "language": "python",
   "name": "python3"
  },
  "language_info": {
   "codemirror_mode": {
    "name": "ipython",
    "version": 3
   },
   "file_extension": ".py",
   "mimetype": "text/x-python",
   "name": "python",
   "nbconvert_exporter": "python",
   "pygments_lexer": "ipython3",
   "version": "3.8.3"
  }
 },
 "nbformat": 4,
 "nbformat_minor": 4
}
