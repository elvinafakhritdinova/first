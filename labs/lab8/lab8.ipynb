{
 "cells": [
  {
   "cell_type": "markdown",
   "metadata": {},
   "source": [
    "Вам необходимо провести базовый EDA выбранного набора данных.\n",
    "\n",
    "Требования к анализу:\n",
    "\n",
    "построить не менее 4 визуализаций различных видов;\n",
    "каждая визуализация должным образом оформлена и читается даже в отрыве от контекста;\n",
    "по каждой визуализации необходимо написать вывод (какую гипотезу на ее основе можно выдвинуть?).\n",
    "\n",
    "Откуда брать данные?\n",
    "\n",
    "Можете взять свои рабочие данные, либо найти открытые данные (например, на kaggle.com) по интересующей вас предметной области (тогда не забудьте их выложить на github вместе с ноутбуком). Если идей нет, можете взять один из перечисленных ниже:\n",
    "\n",
    "данные приложений из Google Play;\n",
    "данные о видео из трендов YouTube;\n",
    "данные об уровне счастья в разных странах;\n",
    "данные по фильмам и сериалам Netflix."
   ]
  },
  {
   "cell_type": "code",
   "execution_count": 1,
   "metadata": {},
   "outputs": [],
   "source": [
    "import pandas as pd\n",
    "import matplotlib.pyplot as plt\n",
    "import seaborn as sns\n",
    "plt.show()"
   ]
  },
  {
   "cell_type": "code",
   "execution_count": 3,
   "metadata": {},
   "outputs": [
    {
     "name": "stdout",
     "output_type": "stream",
     "text": [
      "<class 'pandas.core.frame.DataFrame'>\n",
      "RangeIndex: 20058 entries, 0 to 20057\n",
      "Data columns (total 16 columns):\n",
      " #   Column          Non-Null Count  Dtype  \n",
      "---  ------          --------------  -----  \n",
      " 0   id              20058 non-null  object \n",
      " 1   rated           20058 non-null  bool   \n",
      " 2   created_at      20058 non-null  float64\n",
      " 3   last_move_at    20058 non-null  float64\n",
      " 4   turns           20058 non-null  int64  \n",
      " 5   victory_status  20058 non-null  object \n",
      " 6   winner          20058 non-null  object \n",
      " 7   increment_code  20058 non-null  object \n",
      " 8   white_id        20058 non-null  object \n",
      " 9   white_rating    20058 non-null  int64  \n",
      " 10  black_id        20058 non-null  object \n",
      " 11  black_rating    20058 non-null  int64  \n",
      " 12  moves           20058 non-null  object \n",
      " 13  opening_eco     20058 non-null  object \n",
      " 14  opening_name    20058 non-null  object \n",
      " 15  opening_ply     20058 non-null  int64  \n",
      "dtypes: bool(1), float64(2), int64(4), object(9)\n",
      "memory usage: 2.3+ MB\n"
     ]
    }
   ],
   "source": [
    "chess=pd.read_csv('games.csv')\n",
    "chess.info()"
   ]
  },
  {
   "cell_type": "markdown",
   "metadata": {},
   "source": [
    "**1 Узнаем кто больше побеждает - белые или черные?**"
   ]
  },
  {
   "cell_type": "code",
   "execution_count": 44,
   "metadata": {},
   "outputs": [
    {
     "data": {
      "image/png": "[encoded data removed]",
      "text/plain": [
       "<Figure size 432x288 with 1 Axes>"
      ]
     },
     "metadata": {
      "needs_background": "light"
     },
     "output_type": "display_data"
    }
   ],
   "source": [
    "plotWinner = chess.groupby('winner').size().plot(kind='bar')\n",
    "plt.show()"
   ]
  },
  {
   "cell_type": "markdown",
   "metadata": {},
   "source": [
    "Белые побеждают больше"
   ]
  },
  {
   "cell_type": "markdown",
   "metadata": {},
   "source": [
    "**2. Узнаем кто больше всего играл белыми**"
   ]
  },
  {
   "cell_type": "code",
   "execution_count": 57,
   "metadata": {},
   "outputs": [
    {
     "data": {
      "text/html": [
       "<div>\n",
       "<style scoped>\n",
       "    .dataframe tbody tr th:only-of-type {\n",
       "        vertical-align: middle;\n",
       "    }\n",
       "\n",
       "    .dataframe tbody tr th {\n",
       "        vertical-align: top;\n",
       "    }\n",
       "\n",
       "    .dataframe thead th {\n",
       "        text-align: right;\n",
       "    }\n",
       "</style>\n",
       "<table border=\"1\" class=\"dataframe\">\n",
       "  <thead>\n",
       "    <tr style=\"text-align: right;\">\n",
       "      <th></th>\n",
       "      <th>id</th>\n",
       "    </tr>\n",
       "    <tr>\n",
       "      <th>white_id</th>\n",
       "      <th></th>\n",
       "    </tr>\n",
       "  </thead>\n",
       "  <tbody>\n",
       "    <tr>\n",
       "      <th>taranga</th>\n",
       "      <td>72</td>\n",
       "    </tr>\n",
       "    <tr>\n",
       "      <th>chess-brahs</th>\n",
       "      <td>53</td>\n",
       "    </tr>\n",
       "    <tr>\n",
       "      <th>a_p_t_e_m_u_u</th>\n",
       "      <td>49</td>\n",
       "    </tr>\n",
       "    <tr>\n",
       "      <th>ssf7</th>\n",
       "      <td>48</td>\n",
       "    </tr>\n",
       "    <tr>\n",
       "      <th>bleda</th>\n",
       "      <td>48</td>\n",
       "    </tr>\n",
       "  </tbody>\n",
       "</table>\n",
       "</div>"
      ],
      "text/plain": [
       "               id\n",
       "white_id         \n",
       "taranga        72\n",
       "chess-brahs    53\n",
       "a_p_t_e_m_u_u  49\n",
       "ssf7           48\n",
       "bleda          48"
      ]
     },
     "execution_count": 57,
     "metadata": {},
     "output_type": "execute_result"
    }
   ],
   "source": [
    "topwhite = chess.groupby('white_id')[['id']].count()\\\n",
    "    .sort_values('id', ascending=False).head()\n",
    "    \n",
    "topwhite"
   ]
  },
  {
   "cell_type": "code",
   "execution_count": 58,
   "metadata": {},
   "outputs": [
    {
     "data": {
      "text/plain": [
       "<matplotlib.axes._subplots.AxesSubplot at 0x1e0b125c7c0>"
      ]
     },
     "execution_count": 58,
     "metadata": {},
     "output_type": "execute_result"
    },
    {
     "data": {
      "image/png": "[encoded data removed]",
      "text/plain": [
       "<Figure size 432x288 with 1 Axes>"
      ]
     },
     "metadata": {
      "needs_background": "light"
     },
     "output_type": "display_data"
    }
   ],
   "source": [
    "topwhite.plot()"
   ]
  },
  {
   "cell_type": "markdown",
   "metadata": {},
   "source": [
    "с игроком taranga лучше всего не играть черными)"
   ]
  },
  {
   "cell_type": "markdown",
   "metadata": {},
   "source": [
    "**3. Узнаем кто больше всего играл черными**"
   ]
  },
  {
   "cell_type": "code",
   "execution_count": 59,
   "metadata": {},
   "outputs": [
    {
     "data": {
      "text/html": [
       "<div>\n",
       "<style scoped>\n",
       "    .dataframe tbody tr th:only-of-type {\n",
       "        vertical-align: middle;\n",
       "    }\n",
       "\n",
       "    .dataframe tbody tr th {\n",
       "        vertical-align: top;\n",
       "    }\n",
       "\n",
       "    .dataframe thead th {\n",
       "        text-align: right;\n",
       "    }\n",
       "</style>\n",
       "<table border=\"1\" class=\"dataframe\">\n",
       "  <thead>\n",
       "    <tr style=\"text-align: right;\">\n",
       "      <th></th>\n",
       "      <th>id</th>\n",
       "    </tr>\n",
       "    <tr>\n",
       "      <th>black_id</th>\n",
       "      <th></th>\n",
       "    </tr>\n",
       "  </thead>\n",
       "  <tbody>\n",
       "    <tr>\n",
       "      <th>taranga</th>\n",
       "      <td>82</td>\n",
       "    </tr>\n",
       "    <tr>\n",
       "      <th>vladimir-kramnik-1</th>\n",
       "      <td>60</td>\n",
       "    </tr>\n",
       "    <tr>\n",
       "      <th>a_p_t_e_m_u_u</th>\n",
       "      <td>47</td>\n",
       "    </tr>\n",
       "    <tr>\n",
       "      <th>king5891</th>\n",
       "      <td>44</td>\n",
       "    </tr>\n",
       "    <tr>\n",
       "      <th>docboss</th>\n",
       "      <td>44</td>\n",
       "    </tr>\n",
       "  </tbody>\n",
       "</table>\n",
       "</div>"
      ],
      "text/plain": [
       "                    id\n",
       "black_id              \n",
       "taranga             82\n",
       "vladimir-kramnik-1  60\n",
       "a_p_t_e_m_u_u       47\n",
       "king5891            44\n",
       "docboss             44"
      ]
     },
     "execution_count": 59,
     "metadata": {},
     "output_type": "execute_result"
    }
   ],
   "source": [
    "topblack = chess.groupby('black_id')[['id']].count()\\\n",
    "    .sort_values('id', ascending=False).head()\n",
    "    \n",
    "topblack"
   ]
  },
  {
   "cell_type": "code",
   "execution_count": 60,
   "metadata": {},
   "outputs": [
    {
     "data": {
      "text/plain": [
       "<matplotlib.axes._subplots.AxesSubplot at 0x1e0b0bed040>"
      ]
     },
     "execution_count": 60,
     "metadata": {},
     "output_type": "execute_result"
    },
    {
     "data": {
      "image/png": "[encoded data removed]",
      "text/plain": [
       "<Figure size 432x288 with 1 Axes>"
      ]
     },
     "metadata": {
      "needs_background": "light"
     },
     "output_type": "display_data"
    }
   ],
   "source": [
    "topblack.plot(kind='bar', rot=45)"
   ]
  },
  {
   "cell_type": "markdown",
   "metadata": {},
   "source": [
    "О нет! И здесь эта taranga! видимо она очень любит играть в шахматы! "
   ]
  },
  {
   "cell_type": "markdown",
   "metadata": {},
   "source": [
    "**4. Узнаем 10 самых высоких рейтингов у белых**"
   ]
  },
  {
   "cell_type": "code",
   "execution_count": 88,
   "metadata": {},
   "outputs": [
    {
     "data": {
      "text/html": [
       "<style  type=\"text/css\" >\n",
       "    #T_9be01e54_1791_11eb_9967_dc8b28180898row0_col0 {\n",
       "            width:  10em;\n",
       "             height:  80%;\n",
       "            background:  linear-gradient(90deg,#d65f5f 100.0%, transparent 100.0%);\n",
       "        }    #T_9be01e54_1791_11eb_9967_dc8b28180898row1_col0 {\n",
       "            width:  10em;\n",
       "             height:  80%;\n",
       "            background:  linear-gradient(90deg,#d65f5f 61.0%, transparent 61.0%);\n",
       "        }    #T_9be01e54_1791_11eb_9967_dc8b28180898row2_col0 {\n",
       "            width:  10em;\n",
       "             height:  80%;\n",
       "            background:  linear-gradient(90deg,#d65f5f 60.5%, transparent 60.5%);\n",
       "        }    #T_9be01e54_1791_11eb_9967_dc8b28180898row3_col0 {\n",
       "            width:  10em;\n",
       "             height:  80%;\n",
       "            background:  linear-gradient(90deg,#d65f5f 43.0%, transparent 43.0%);\n",
       "        }    #T_9be01e54_1791_11eb_9967_dc8b28180898row4_col0 {\n",
       "            width:  10em;\n",
       "             height:  80%;\n",
       "            background:  linear-gradient(90deg,#d65f5f 39.5%, transparent 39.5%);\n",
       "        }    #T_9be01e54_1791_11eb_9967_dc8b28180898row5_col0 {\n",
       "            width:  10em;\n",
       "             height:  80%;\n",
       "            background:  linear-gradient(90deg,#d65f5f 24.5%, transparent 24.5%);\n",
       "        }    #T_9be01e54_1791_11eb_9967_dc8b28180898row6_col0 {\n",
       "            width:  10em;\n",
       "             height:  80%;\n",
       "            background:  linear-gradient(90deg,#d65f5f 11.0%, transparent 11.0%);\n",
       "        }    #T_9be01e54_1791_11eb_9967_dc8b28180898row7_col0 {\n",
       "            width:  10em;\n",
       "             height:  80%;\n",
       "            background:  linear-gradient(90deg,#d65f5f 6.5%, transparent 6.5%);\n",
       "        }    #T_9be01e54_1791_11eb_9967_dc8b28180898row8_col0 {\n",
       "            width:  10em;\n",
       "             height:  80%;\n",
       "        }    #T_9be01e54_1791_11eb_9967_dc8b28180898row9_col0 {\n",
       "            width:  10em;\n",
       "             height:  80%;\n",
       "        }</style><table id=\"T_9be01e54_1791_11eb_9967_dc8b28180898\" ><thead>    <tr>        <th class=\"blank level0\" ></th>        <th class=\"col_heading level0 col0\" >white_rating</th>    </tr>    <tr>        <th class=\"index_name level0\" >white_id</th>        <th class=\"blank\" ></th>    </tr></thead><tbody>\n",
       "                <tr>\n",
       "                        <th id=\"T_9be01e54_1791_11eb_9967_dc8b28180898level0_row0\" class=\"row_heading level0 row0\" >justicebot</th>\n",
       "                        <td id=\"T_9be01e54_1791_11eb_9967_dc8b28180898row0_col0\" class=\"data row0 col0\" >2700</td>\n",
       "            </tr>\n",
       "            <tr>\n",
       "                        <th id=\"T_9be01e54_1791_11eb_9967_dc8b28180898level0_row1\" class=\"row_heading level0 row1\" >blitzbullet</th>\n",
       "                        <td id=\"T_9be01e54_1791_11eb_9967_dc8b28180898row1_col0\" class=\"data row1 col0\" >2622</td>\n",
       "            </tr>\n",
       "            <tr>\n",
       "                        <th id=\"T_9be01e54_1791_11eb_9967_dc8b28180898level0_row2\" class=\"row_heading level0 row2\" >lance5500</th>\n",
       "                        <td id=\"T_9be01e54_1791_11eb_9967_dc8b28180898row2_col0\" class=\"data row2 col0\" >2621</td>\n",
       "            </tr>\n",
       "            <tr>\n",
       "                        <th id=\"T_9be01e54_1791_11eb_9967_dc8b28180898level0_row3\" class=\"row_heading level0 row3\" >shahoviy_komentator</th>\n",
       "                        <td id=\"T_9be01e54_1791_11eb_9967_dc8b28180898row3_col0\" class=\"data row3 col0\" >2586</td>\n",
       "            </tr>\n",
       "            <tr>\n",
       "                        <th id=\"T_9be01e54_1791_11eb_9967_dc8b28180898level0_row4\" class=\"row_heading level0 row4\" >teatime007</th>\n",
       "                        <td id=\"T_9be01e54_1791_11eb_9967_dc8b28180898row4_col0\" class=\"data row4 col0\" >2579</td>\n",
       "            </tr>\n",
       "            <tr>\n",
       "                        <th id=\"T_9be01e54_1791_11eb_9967_dc8b28180898level0_row5\" class=\"row_heading level0 row5\" >le_truand</th>\n",
       "                        <td id=\"T_9be01e54_1791_11eb_9967_dc8b28180898row5_col0\" class=\"data row5 col0\" >2549</td>\n",
       "            </tr>\n",
       "            <tr>\n",
       "                        <th id=\"T_9be01e54_1791_11eb_9967_dc8b28180898level0_row6\" class=\"row_heading level0 row6\" >king-bullet</th>\n",
       "                        <td id=\"T_9be01e54_1791_11eb_9967_dc8b28180898row6_col0\" class=\"data row6 col0\" >2522</td>\n",
       "            </tr>\n",
       "            <tr>\n",
       "                        <th id=\"T_9be01e54_1791_11eb_9967_dc8b28180898level0_row7\" class=\"row_heading level0 row7\" >lexisvar</th>\n",
       "                        <td id=\"T_9be01e54_1791_11eb_9967_dc8b28180898row7_col0\" class=\"data row7 col0\" >2513</td>\n",
       "            </tr>\n",
       "            <tr>\n",
       "                        <th id=\"T_9be01e54_1791_11eb_9967_dc8b28180898level0_row8\" class=\"row_heading level0 row8\" >chess-stat</th>\n",
       "                        <td id=\"T_9be01e54_1791_11eb_9967_dc8b28180898row8_col0\" class=\"data row8 col0\" >2500</td>\n",
       "            </tr>\n",
       "            <tr>\n",
       "                        <th id=\"T_9be01e54_1791_11eb_9967_dc8b28180898level0_row9\" class=\"row_heading level0 row9\" >chesspirate421</th>\n",
       "                        <td id=\"T_9be01e54_1791_11eb_9967_dc8b28180898row9_col0\" class=\"data row9 col0\" >2500</td>\n",
       "            </tr>\n",
       "    </tbody></table>"
      ],
      "text/plain": [
       "<pandas.io.formats.style.Styler at 0x1e0b54b7f10>"
      ]
     },
     "execution_count": 88,
     "metadata": {},
     "output_type": "execute_result"
    }
   ],
   "source": [
    "top_white = chess.groupby('white_id')[['white_rating']].max()\\\n",
    "    .sort_values('white_rating', ascending=False).head(10)\n",
    "top_white.style.bar()"
   ]
  },
  {
   "cell_type": "markdown",
   "metadata": {},
   "source": [
    "**5. Узнаем 10 самых высоких рейтингов у черных**"
   ]
  },
  {
   "cell_type": "code",
   "execution_count": 89,
   "metadata": {},
   "outputs": [
    {
     "data": {
      "text/html": [
       "<style  type=\"text/css\" >\n",
       "    #T_9ca903e2_1791_11eb_bce3_dc8b28180898row0_col0 {\n",
       "            width:  10em;\n",
       "             height:  80%;\n",
       "            background:  linear-gradient(90deg,#d65f5f 100.0%, transparent 100.0%);\n",
       "        }    #T_9ca903e2_1791_11eb_bce3_dc8b28180898row1_col0 {\n",
       "            width:  10em;\n",
       "             height:  80%;\n",
       "            background:  linear-gradient(90deg,#d65f5f 57.9%, transparent 57.9%);\n",
       "        }    #T_9ca903e2_1791_11eb_bce3_dc8b28180898row2_col0 {\n",
       "            width:  10em;\n",
       "             height:  80%;\n",
       "            background:  linear-gradient(90deg,#d65f5f 44.2%, transparent 44.2%);\n",
       "        }    #T_9ca903e2_1791_11eb_bce3_dc8b28180898row3_col0 {\n",
       "            width:  10em;\n",
       "             height:  80%;\n",
       "            background:  linear-gradient(90deg,#d65f5f 39.7%, transparent 39.7%);\n",
       "        }    #T_9ca903e2_1791_11eb_bce3_dc8b28180898row4_col0 {\n",
       "            width:  10em;\n",
       "             height:  80%;\n",
       "            background:  linear-gradient(90deg,#d65f5f 24.4%, transparent 24.4%);\n",
       "        }    #T_9ca903e2_1791_11eb_bce3_dc8b28180898row5_col0 {\n",
       "            width:  10em;\n",
       "             height:  80%;\n",
       "            background:  linear-gradient(90deg,#d65f5f 18.6%, transparent 18.6%);\n",
       "        }    #T_9ca903e2_1791_11eb_bce3_dc8b28180898row6_col0 {\n",
       "            width:  10em;\n",
       "             height:  80%;\n",
       "            background:  linear-gradient(90deg,#d65f5f 14.5%, transparent 14.5%);\n",
       "        }    #T_9ca903e2_1791_11eb_bce3_dc8b28180898row7_col0 {\n",
       "            width:  10em;\n",
       "             height:  80%;\n",
       "            background:  linear-gradient(90deg,#d65f5f 7.9%, transparent 7.9%);\n",
       "        }    #T_9ca903e2_1791_11eb_bce3_dc8b28180898row8_col0 {\n",
       "            width:  10em;\n",
       "             height:  80%;\n",
       "            background:  linear-gradient(90deg,#d65f5f 7.4%, transparent 7.4%);\n",
       "        }    #T_9ca903e2_1791_11eb_bce3_dc8b28180898row9_col0 {\n",
       "            width:  10em;\n",
       "             height:  80%;\n",
       "        }</style><table id=\"T_9ca903e2_1791_11eb_bce3_dc8b28180898\" ><thead>    <tr>        <th class=\"blank level0\" ></th>        <th class=\"col_heading level0 col0\" >black_rating</th>    </tr>    <tr>        <th class=\"index_name level0\" >black_id</th>        <th class=\"blank\" ></th>    </tr></thead><tbody>\n",
       "                <tr>\n",
       "                        <th id=\"T_9ca903e2_1791_11eb_bce3_dc8b28180898level0_row0\" class=\"row_heading level0 row0\" >justicebot</th>\n",
       "                        <td id=\"T_9ca903e2_1791_11eb_bce3_dc8b28180898row0_col0\" class=\"data row0 col0\" >2723</td>\n",
       "            </tr>\n",
       "            <tr>\n",
       "                        <th id=\"T_9ca903e2_1791_11eb_bce3_dc8b28180898level0_row1\" class=\"row_heading level0 row1\" >lance5500</th>\n",
       "                        <td id=\"T_9ca903e2_1791_11eb_bce3_dc8b28180898row1_col0\" class=\"data row1 col0\" >2621</td>\n",
       "            </tr>\n",
       "            <tr>\n",
       "                        <th id=\"T_9ca903e2_1791_11eb_bce3_dc8b28180898level0_row2\" class=\"row_heading level0 row2\" >avill050</th>\n",
       "                        <td id=\"T_9ca903e2_1791_11eb_bce3_dc8b28180898row2_col0\" class=\"data row2 col0\" >2588</td>\n",
       "            </tr>\n",
       "            <tr>\n",
       "                        <th id=\"T_9ca903e2_1791_11eb_bce3_dc8b28180898level0_row3\" class=\"row_heading level0 row3\" >teatime007</th>\n",
       "                        <td id=\"T_9ca903e2_1791_11eb_bce3_dc8b28180898row3_col0\" class=\"data row3 col0\" >2577</td>\n",
       "            </tr>\n",
       "            <tr>\n",
       "                        <th id=\"T_9ca903e2_1791_11eb_bce3_dc8b28180898level0_row4\" class=\"row_heading level0 row4\" >tree33</th>\n",
       "                        <td id=\"T_9ca903e2_1791_11eb_bce3_dc8b28180898row4_col0\" class=\"data row4 col0\" >2540</td>\n",
       "            </tr>\n",
       "            <tr>\n",
       "                        <th id=\"T_9ca903e2_1791_11eb_bce3_dc8b28180898level0_row5\" class=\"row_heading level0 row5\" >marantz3</th>\n",
       "                        <td id=\"T_9ca903e2_1791_11eb_bce3_dc8b28180898row5_col0\" class=\"data row5 col0\" >2526</td>\n",
       "            </tr>\n",
       "            <tr>\n",
       "                        <th id=\"T_9ca903e2_1791_11eb_bce3_dc8b28180898level0_row6\" class=\"row_heading level0 row6\" >sparklehorse</th>\n",
       "                        <td id=\"T_9ca903e2_1791_11eb_bce3_dc8b28180898row6_col0\" class=\"data row6 col0\" >2516</td>\n",
       "            </tr>\n",
       "            <tr>\n",
       "                        <th id=\"T_9ca903e2_1791_11eb_bce3_dc8b28180898level0_row7\" class=\"row_heading level0 row7\" >chess-stat</th>\n",
       "                        <td id=\"T_9ca903e2_1791_11eb_bce3_dc8b28180898row7_col0\" class=\"data row7 col0\" >2500</td>\n",
       "            </tr>\n",
       "            <tr>\n",
       "                        <th id=\"T_9ca903e2_1791_11eb_bce3_dc8b28180898level0_row8\" class=\"row_heading level0 row8\" >vahapsanal</th>\n",
       "                        <td id=\"T_9ca903e2_1791_11eb_bce3_dc8b28180898row8_col0\" class=\"data row8 col0\" >2499</td>\n",
       "            </tr>\n",
       "            <tr>\n",
       "                        <th id=\"T_9ca903e2_1791_11eb_bce3_dc8b28180898level0_row9\" class=\"row_heading level0 row9\" >allmight87</th>\n",
       "                        <td id=\"T_9ca903e2_1791_11eb_bce3_dc8b28180898row9_col0\" class=\"data row9 col0\" >2481</td>\n",
       "            </tr>\n",
       "    </tbody></table>"
      ],
      "text/plain": [
       "<pandas.io.formats.style.Styler at 0x1e0b4456d30>"
      ]
     },
     "execution_count": 89,
     "metadata": {},
     "output_type": "execute_result"
    }
   ],
   "source": [
    "top_black = chess.groupby('black_id')[['black_rating']].max()\\\n",
    "    .sort_values('black_rating', ascending=False).head(10)\n",
    "top_black.style.bar()"
   ]
  },
  {
   "cell_type": "markdown",
   "metadata": {},
   "source": []
  },
  {
   "cell_type": "markdown",
   "metadata": {},
   "source": [
    "**6. Статистика статуса побед**"
   ]
  },
  {
   "cell_type": "code",
   "execution_count": 93,
   "metadata": {},
   "outputs": [
    {
     "data": {
      "text/plain": [
       "<matplotlib.axes._subplots.AxesSubplot at 0x1e0b5600af0>"
      ]
     },
     "execution_count": 93,
     "metadata": {},
     "output_type": "execute_result"
    },
    {
     "data": {
      "image/png": "[encoded data removed]",
      "text/plain": [
       "<Figure size 432x288 with 1 Axes>"
      ]
     },
     "metadata": {
      "needs_background": "light"
     },
     "output_type": "display_data"
    }
   ],
   "source": [
    "chess.victory_status.hist()"
   ]
  },
  {
   "cell_type": "markdown",
   "metadata": {},
   "source": [
    "Большинство игроков сдавались, на втором месте - игра дошла до мата, на третьем месте - вышло время у одного из игроков, 4 - ничья."
   ]
  },
  {
   "cell_type": "markdown",
   "metadata": {},
   "source": [
    "**7. Статистика первых ходов**"
   ]
  },
  {
   "cell_type": "code",
   "execution_count": 122,
   "metadata": {},
   "outputs": [],
   "source": [
    "chess['moves'] = chess['moves'].str[:3]"
   ]
  },
  {
   "cell_type": "code",
   "execution_count": 148,
   "metadata": {},
   "outputs": [
    {
     "data": {
      "text/plain": [
       "<matplotlib.axes._subplots.AxesSubplot at 0x1e0c706b0d0>"
      ]
     },
     "execution_count": 148,
     "metadata": {},
     "output_type": "execute_result"
    },
    {
     "data": {
      "image/png": "[encoded data removed]",
      "text/plain": [
       "<Figure size 432x288 with 1 Axes>"
      ]
     },
     "metadata": {},
     "output_type": "display_data"
    }
   ],
   "source": [
    "name_dynamics = chess.groupby(['moves']).count().sort_values(by='id', ascending=False).head(5)\n",
    "# name_dynamics\n",
    "name_dynamics.plot(kind='pie', y='id' )"
   ]
  },
  {
   "cell_type": "markdown",
   "metadata": {},
   "source": [
    "Исходя из диаграммы видно, что наиболее популярный первый ход белых - е4."
   ]
  },
  {
   "cell_type": "code",
   "execution_count": null,
   "metadata": {},
   "outputs": [],
   "source": []
  }
 ],
 "metadata": {
  "kernelspec": {
   "display_name": "Python 3",
   "language": "python",
   "name": "python3"
  },
  "language_info": {
   "codemirror_mode": {
    "name": "ipython",
    "version": 3
   },
   "file_extension": ".py",
   "mimetype": "text/x-python",
   "name": "python",
   "nbconvert_exporter": "python",
   "pygments_lexer": "ipython3",
   "version": "3.8.3"
  }
 },
 "nbformat": 4,
 "nbformat_minor": 4
}
