{
 "cells": [
  {
   "cell_type": "markdown",
   "metadata": {},
   "source": [
    "**Задание 1**. Дан список с визитами по городам и странам. \n",
    "Напишите код, который возвращает отфильтрованный список geo_logs, содержащий только визиты из России."
   ]
  },
  {
   "cell_type": "code",
   "execution_count": 59,
   "metadata": {},
   "outputs": [],
   "source": [
    "geo_logs = [\n",
    "    {'visit1': ['Москва', 'Россия']},\n",
    "    {'visit2': ['Дели', 'Индия']},\n",
    "    {'visit3': ['Владимир', 'Россия']},\n",
    "    {'visit4': ['Лиссабон', 'Португалия']},\n",
    "    {'visit5': ['Париж', 'Франция']},\n",
    "    {'visit6': ['Лиссабон', 'Португалия']},\n",
    "    {'visit7': ['Тула', 'Россия']},\n",
    "    {'visit8': ['Тула', 'Россия']},\n",
    "    {'visit9': ['Курск', 'Россия']},\n",
    "    {'visit10': ['Архангельск', 'Россия']}\n",
    "]"
   ]
  },
  {
   "cell_type": "code",
   "execution_count": 60,
   "metadata": {},
   "outputs": [
    {
     "data": {
      "text/plain": [
       "[{'visit1': ['Москва', 'Россия']},\n",
       " {'visit3': ['Владимир', 'Россия']},\n",
       " {'visit7': ['Тула', 'Россия']},\n",
       " {'visit8': ['Тула', 'Россия']},\n",
       " {'visit9': ['Курск', 'Россия']},\n",
       " {'visit10': ['Архангельск', 'Россия']}]"
      ]
     },
     "execution_count": 60,
     "metadata": {},
     "output_type": "execute_result"
    }
   ],
   "source": [
    "rus=[]\n",
    "for value in geo_logs:\n",
    "    if list(value.values())[0][1]=='Россия':\n",
    "        rus.append(value)\n",
    "rus"
   ]
  },
  {
   "cell_type": "code",
   "execution_count": null,
   "metadata": {},
   "outputs": [],
   "source": []
  },
  {
   "cell_type": "markdown",
   "metadata": {},
   "source": [
    "**Задание 2**. Выведите на экран все уникальные гео-ID из значений словаря ids. Т. е. список вида [213, 15, 54, 119, 98, 35]"
   ]
  },
  {
   "cell_type": "code",
   "execution_count": 61,
   "metadata": {},
   "outputs": [],
   "source": [
    "ids = {'user1': [213, 213, 213, 15, 213], \n",
    "       'user2': [54, 54, 119, 119, 119], \n",
    "       'user3': [213, 98, 98, 35]}"
   ]
  },
  {
   "cell_type": "code",
   "execution_count": 62,
   "metadata": {},
   "outputs": [
    {
     "data": {
      "text/plain": [
       "[98, 35, 15, 213, 54, 119]"
      ]
     },
     "execution_count": 62,
     "metadata": {},
     "output_type": "execute_result"
    }
   ],
   "source": [
    "list(set(sum(ids.values(), [])))"
   ]
  },
  {
   "cell_type": "markdown",
   "metadata": {},
   "source": [
    "**Задание 3**. Дан список поисковых запросов. Получить распределение количества слов в них. \n",
    "Т. е. поисковых запросов из одного - слова 5%, из двух - 7%, из трех - 3% и т.д."
   ]
  },
  {
   "cell_type": "code",
   "execution_count": 63,
   "metadata": {},
   "outputs": [],
   "source": [
    "queries = [\n",
    "    'смотреть сериалы онлайн',\n",
    "    'новости спорта',\n",
    "    'афиша кино',\n",
    "    'курс доллара',\n",
    "    'сериалы этим летом',\n",
    "    'курс по питону',\n",
    "    'сериалы про спорт',\n",
    "]"
   ]
  },
  {
   "cell_type": "code",
   "execution_count": 64,
   "metadata": {},
   "outputs": [
    {
     "name": "stdout",
     "output_type": "stream",
     "text": [
      "Поисковых запросов из 3 слов: 57.14 %\n",
      "Поисковых запросов из 2 слов: 42.86 %\n"
     ]
    }
   ],
   "source": [
    "diction = {}\n",
    "for query in queries:\n",
    "    words = query.split()\n",
    "    if len(words) in diction.keys():\n",
    "        diction[len(words)] += 1\n",
    "    else:\n",
    "        diction.update({len(words): 1})\n",
    "for key, value in diction.items():\n",
    "    procent = round((value / len(queries)) * 100, 2)\n",
    "    print(f'Поисковых запросов из {key} слов: {procent} %')"
   ]
  },
  {
   "cell_type": "markdown",
   "metadata": {},
   "source": [
    "**Задание 4**. Дана статистика рекламных каналов по объемам продаж. Напишите скрипт, который возвращает название канала с максимальным объемом.\n",
    "Т. е. в данном примере скрипт должен возвращать 'yandex'."
   ]
  },
  {
   "cell_type": "code",
   "execution_count": 65,
   "metadata": {},
   "outputs": [],
   "source": [
    "stats = {'facebook': 55, 'yandex': 120, 'vk': 115, 'google': 99, 'email': 42, 'ok': 98}"
   ]
  },
  {
   "cell_type": "code",
   "execution_count": 66,
   "metadata": {},
   "outputs": [
    {
     "data": {
      "text/plain": [
       "'yandex'"
      ]
     },
     "execution_count": 66,
     "metadata": {},
     "output_type": "execute_result"
    }
   ],
   "source": [
    "maximum=max(stats.values())\n",
    "for key,value in stats.items():\n",
    "    if value==maximum:\n",
    "        key_max=key\n",
    "key_max"
   ]
  },
  {
   "cell_type": "code",
   "execution_count": 67,
   "metadata": {},
   "outputs": [
    {
     "data": {
      "text/plain": [
       "['yandex']"
      ]
     },
     "execution_count": 67,
     "metadata": {},
     "output_type": "execute_result"
    }
   ],
   "source": [
    "key_max=[key for key,value in stats.items() if value==max(stats.values())]\n",
    "key_max"
   ]
  },
  {
   "cell_type": "markdown",
   "metadata": {},
   "source": [
    "**Задание 5**. Напишите код для преобразования произвольного списка вида ['2018-01-01', 'yandex', 'cpc', 100] (он может быть любой длины) в словарь {'2018-01-01': {'yandex': {'cpc': 100}}}"
   ]
  },
  {
   "cell_type": "code",
   "execution_count": 68,
   "metadata": {},
   "outputs": [
    {
     "data": {
      "text/plain": [
       "{'2018-01-01': {'yandex': {'cpc': 100}}}"
      ]
     },
     "execution_count": 68,
     "metadata": {},
     "output_type": "execute_result"
    }
   ],
   "source": [
    "spisok = ['2018-01-01', 'yandex', 'cpc', 100]\n",
    "slovar = {spisok[-2]: spisok[-1]}\n",
    "for i in spisok[:-2][::-1]:\n",
    "    slovar = {i: slovar}\n",
    "slovar"
   ]
  },
  {
   "cell_type": "markdown",
   "metadata": {},
   "source": [
    "**Задание 6.** Минимум две задачи из лабораторной работы № 1 на списки реализовать через list compreshin. Задачи на строки так же решаются в одну команду, тминимум "
   ]
  },
  {
   "cell_type": "code",
   "execution_count": 71,
   "metadata": {},
   "outputs": [
    {
     "data": {
      "text/plain": [
       "1291"
      ]
     },
     "execution_count": 71,
     "metadata": {},
     "output_type": "execute_result"
    }
   ],
   "source": [
    "#Напишите алгоритм, который выводит, равное сумме элементов списка, которые больше 10, но меньше 100, и которые больше 200, но меньше 500.\n",
    "list_01 = [1, 1, 2, 3, 5, 8, 13, 21, 34, 55, 89, 144, 233, 377, 610, 14, 46, 273, 22, 99, 15, 1000]\n",
    "sum([num for num in list_01 if 10<num<100 or 200<num<500])"
   ]
  },
  {
   "cell_type": "code",
   "execution_count": 72,
   "metadata": {},
   "outputs": [
    {
     "data": {
      "text/plain": [
       "89"
      ]
     },
     "execution_count": 72,
     "metadata": {},
     "output_type": "execute_result"
    }
   ],
   "source": [
    "#Выведите результат сложения всех элементов матрицы.\n",
    "matrix = [ \n",
    "    [0,1,2,4,8], \n",
    "    [6,2,2,1,9], \n",
    "    [3,3,3,3,3], \n",
    "    [4,6,7,1,2], \n",
    "    [5,7,3,4,0] \n",
    "]\n",
    "sum([sum(matrix[i]) for i in range(len(matrix))])"
   ]
  },
  {
   "cell_type": "code",
   "execution_count": 73,
   "metadata": {},
   "outputs": [
    {
     "data": {
      "text/plain": [
       "22"
      ]
     },
     "execution_count": 73,
     "metadata": {},
     "output_type": "execute_result"
    }
   ],
   "source": [
    "#Напишите алгоритм вычисления максимума из сумм элементов каждого столбца.\n",
    "max([sum(i) for i in zip(*matrix)])"
   ]
  },
  {
   "cell_type": "code",
   "execution_count": 74,
   "metadata": {},
   "outputs": [
    {
     "name": "stdout",
     "output_type": "stream",
     "text": [
      "Введите букву: w\n",
      "written\n",
      "winners\n",
      "When\n",
      "winner\n",
      "writes\n",
      "which\n",
      "What\n"
     ]
    }
   ],
   "source": [
    "string_01 = \"History is always written by the winners. When two cultures clash, the loser is obliterated, and the winner writes the history books - books which glorify their own cause and disparage the conquered foe. As Napoleon once said, 'What is history, but a fable agreed upon?'\"\n",
    "\n",
    "def main(string_01, letter):\n",
    "    string_01= string_01.replace('\\'','')\n",
    "    string_01= string_01.replace(',','')\n",
    "    string_01= string_01.replace('.','')\n",
    "    string_01= string_01.replace('?','')\n",
    "    string_01= string_01.replace('-',' ')\n",
    "    string_01= string_01.split()\n",
    "    [print(word) for word in string_01 if word[0].lower() == letter.lower()]\n",
    "letter=input(\"Введите букву: \")\n",
    "main(string_01, letter)"
   ]
  },
  {
   "cell_type": "code",
   "execution_count": null,
   "metadata": {},
   "outputs": [],
   "source": []
  }
 ],
 "metadata": {
  "kernelspec": {
   "display_name": "Python 3",
   "language": "python",
   "name": "python3"
  },
  "language_info": {
   "codemirror_mode": {
    "name": "ipython",
    "version": 3
   },
   "file_extension": ".py",
   "mimetype": "text/x-python",
   "name": "python",
   "nbconvert_exporter": "python",
   "pygments_lexer": "ipython3",
   "version": "3.8.3"
  }
 },
 "nbformat": 4,
 "nbformat_minor": 2
}
