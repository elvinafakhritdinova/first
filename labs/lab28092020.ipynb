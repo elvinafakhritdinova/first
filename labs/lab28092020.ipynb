{
 "cells": [
  {
   "cell_type": "markdown",
   "metadata": {},
   "source": [
    "**Задание 1**\n",
    "Печатные газеты использовали свой формат дат для каждого выпуска. Для каждой газеты из списка напишите формат указанной даты для перевода в объект datetime:\n",
    "The Moscow Times - Wednesday, October 2, 2002\n",
    "The Guardian - Friday, 11.10.13\n",
    "Daily News - Thursday, 18 August 1977"
   ]
  },
  {
   "cell_type": "code",
   "execution_count": 8,
   "metadata": {},
   "outputs": [],
   "source": [
    "from datetime import datetime, timedelta, date"
   ]
  },
  {
   "cell_type": "code",
   "execution_count": 9,
   "metadata": {},
   "outputs": [],
   "source": [
    "magazines=[('The Moscow Times', 'Wednesday, October 2, 2002'),\n",
    "           ('The Guardian', 'Friday, 11.10.13'),\n",
    "           ('Daily News','Thursday, 18 August 1977')]"
   ]
  },
  {
   "cell_type": "code",
   "execution_count": 15,
   "metadata": {},
   "outputs": [
    {
     "name": "stdout",
     "output_type": "stream",
     "text": [
      "The Moscow Times - 2002-10-02 00:00:00\n",
      "The Guardian - 2013-10-11 00:00:00\n",
      "Daily News - 1977-08-18 00:00:00\n"
     ]
    }
   ],
   "source": [
    "MoscowTimes=datetime.strptime(magazines[0][1],'%A, %B %d, %Y')\n",
    "Guardian=datetime.strptime(magazines[1][1],'%A, %d.%m.%y')\n",
    "DailyNews=datetime.strptime(magazines[2][1],'%A, %d %B %Y')\n",
    "print(magazines[0][0]+\" - \"+ str(MoscowTimes))\n",
    "print(magazines[1][0]+\" - \"+ str(Guardian))\n",
    "print(magazines[2][0]+\" - \"+ str(DailyNews))"
   ]
  },
  {
   "cell_type": "markdown",
   "metadata": {},
   "source": [
    "**Задание 2**\n",
    "Дан поток дат в формате YYYY-MM-DD, в которых встречаются некорректные значения:\n",
    "stream = [‘2018-04-02’, ‘2018-02-29’, ‘2018-19-02’]\n",
    "\n",
    "Напишите функцию, которая проверяет эти даты на корректность. Т. е. для каждой даты возвращает True (дата корректна) или False (некорректная дата)."
   ]
  },
  {
   "cell_type": "code",
   "execution_count": 26,
   "metadata": {},
   "outputs": [],
   "source": [
    "stream = ['2018-04-02', '2018-02-29', '2018-19-02']"
   ]
  },
  {
   "cell_type": "code",
   "execution_count": 28,
   "metadata": {},
   "outputs": [
    {
     "name": "stdout",
     "output_type": "stream",
     "text": [
      "2018-04-02 - True\n",
      "2018-02-29 - False\n",
      "2018-19-02 - False\n"
     ]
    }
   ],
   "source": [
    "def rightDate(date):\n",
    "    try:\n",
    "        datetime.strptime(date, '%Y-%m-%d')\n",
    "        return True\n",
    "    except:\n",
    "        return False\n",
    "\n",
    "for i in stream:\n",
    "    print(i +\" - \"+ str(rightDate(i)))"
   ]
  },
  {
   "cell_type": "markdown",
   "metadata": {},
   "source": [
    "**Задание 3**\n",
    "Напишите функцию date_range, которая возвращает список дат за период от start_date до end_date. Даты должны вводиться в формате YYYY-MM-DD. В случае неверного формата или при start_date > end_date должен возвращаться пустой список."
   ]
  },
  {
   "cell_type": "code",
   "execution_count": 61,
   "metadata": {},
   "outputs": [
    {
     "name": "stdout",
     "output_type": "stream",
     "text": [
      "Введите начальную дату в формате YYYY-MM-DD:2020-10-10\n",
      "Введите конечную дату в формате YYYY-MM-DD:2020-10-20\n",
      "['2020-10-10', '2020-10-11', '2020-10-12', '2020-10-13', '2020-10-14', '2020-10-15', '2020-10-16', '2020-10-17', '2020-10-18', '2020-10-19', '2020-10-20']\n"
     ]
    }
   ],
   "source": [
    "def date_range(start_date,end_date):\n",
    "    mass=[]\n",
    "    if start_date < end_date:\n",
    "        delta = end_date - start_date\n",
    "        for i in range(delta.days + 1):\n",
    "            mass.append(str((start_date + timedelta(i)).strftime(\"%Y-%m-%d\")))\n",
    "        return mass\n",
    "    else:\n",
    "        return mass\n",
    "\n",
    "start_date=datetime.strptime(input('Введите начальную дату в формате YYYY-MM-DD:'), '%Y-%m-%d')\n",
    "end_date=datetime.strptime(input('Введите конечную дату в формате YYYY-MM-DD:'), '%Y-%m-%d')\n",
    "print(date_range(start_date,end_date))"
   ]
  },
  {
   "cell_type": "code",
   "execution_count": 63,
   "metadata": {},
   "outputs": [
    {
     "name": "stdout",
     "output_type": "stream",
     "text": [
      "Введите начальную дату в формате YYYY-MM-DD:2020-10-10\n",
      "Введите конечную дату в формате YYYY-MM-DD:2020 10 20\n",
      "[]\n"
     ]
    }
   ],
   "source": [
    "mass=[]\n",
    "try:\n",
    "    start_date=datetime.strptime(input('Введите начальную дату в формате YYYY-MM-DD:'), '%Y-%m-%d')\n",
    "    end_date=datetime.strptime(input('Введите конечную дату в формате YYYY-MM-DD:'), '%Y-%m-%d')\n",
    "    print(date_range(start_date,end_date))\n",
    "except:\n",
    "    print(mass)"
   ]
  },
  {
   "cell_type": "markdown",
   "metadata": {},
   "source": [
    "**Задание 4**\n",
    "Ваш коллега прислал код функции:\n",
    "\n",
    "DEFAULT_USER_COUNT = 3\n",
    "\n",
    "def delete_and_return_last_user(region, default_list=[‘A100’, ‘A101’, ‘A102’]):\n",
    "\"\"“\n",
    "Удаляет из списка default_list последнего пользователя\n",
    "и возвращает ID нового последнего пользователя.\n",
    "”\"\"\n",
    "element_to_delete = default_list[-1]\n",
    "default_list.remove(element_to_delete)\n",
    "\n",
    "return default_list[DEFAULT_USER_COUNT-2]\n",
    "При однократном вызове этой функции все работает корректно:\n",
    "delete_and_return_last_user(1)\n",
    "‘A101’\n",
    "\n",
    "Однако, при повторном вызове получается ошибка IndexError: list index out of range.\n",
    "\n",
    "Задание:\n",
    "\n",
    "Что значит ошибка list index out of range?\n",
    "Почему при первом запуске функция работает корректно, а при втором - нет?\n"
   ]
  },
  {
   "cell_type": "code",
   "execution_count": 78,
   "metadata": {},
   "outputs": [],
   "source": [
    "DEFAULT_USER_COUNT = 3\n",
    "def delete_and_return_last_user(region, default_list=['A100', 'A101', 'A102']): \n",
    "    \"\"\" Удаляет из списка default_list последнего пользователя и возвращает ID\n",
    "        нового последнего пользователя. \"\"\" \n",
    "    element_to_delete = default_list[-1]\n",
    "    default_list.remove(element_to_delete)\n",
    "    return default_list[DEFAULT_USER_COUNT-2] "
   ]
  },
  {
   "cell_type": "code",
   "execution_count": 76,
   "metadata": {},
   "outputs": [
    {
     "data": {
      "text/plain": [
       "'A101'"
      ]
     },
     "execution_count": 76,
     "metadata": {},
     "output_type": "execute_result"
    }
   ],
   "source": [
    "delete_and_return_last_user(1)"
   ]
  },
  {
   "cell_type": "markdown",
   "metadata": {},
   "source": [
    "**Что значит ошибка list index out of range?** \n",
    "индекс находится за границей листа, по данному индексу нет элемента в списке"
   ]
  },
  {
   "cell_type": "markdown",
   "metadata": {},
   "source": [
    "**Почему при первом запуске функция работает корректно, а при втором - нет?**\n",
    "DEFAULT_USER_COUNT - постоянная переменная.  А количество элементов в списке уменьшается. При втором вызове в строчке \"return default_list[DEFAULT_USER_COUNT-2]\" происходит ошибка, так как мы обращаемся к уже не существующему элементу. "
   ]
  },
  {
   "cell_type": "code",
   "execution_count": null,
   "metadata": {},
   "outputs": [],
   "source": []
  }
 ],
 "metadata": {
  "kernelspec": {
   "display_name": "Python 3",
   "language": "python",
   "name": "python3"
  },
  "language_info": {
   "codemirror_mode": {
    "name": "ipython",
    "version": 3
   },
   "file_extension": ".py",
   "mimetype": "text/x-python",
   "name": "python",
   "nbconvert_exporter": "python",
   "pygments_lexer": "ipython3",
   "version": "3.8.3"
  }
 },
 "nbformat": 4,
 "nbformat_minor": 4
}
