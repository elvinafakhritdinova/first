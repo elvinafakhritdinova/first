{
 "cells": [
  {
   "cell_type": "markdown",
   "metadata": {},
   "source": [
    "Задание к лекции \"Основы веб-скрапинга и работы с API\"\n",
    "\n",
    "Будем парсить страницу со свежеми новостям на habr.com/ru/all/.\n",
    "\n",
    "Вам необходимо собирать только те статьи, в которых встречается хотя бы одно требуемое ключевое слово. Эти слова определяем в начале кода в переменной, например:\n",
    "\n",
    "KEYWORDS = ['python', 'парсинг']\n",
    "\n",
    "Поиск вести по всей доступной preview-информации (это информация, доступная непосредственно с текущей страницы).\n",
    "\n",
    "В итоге должен формироваться датафрейм вида: <дата> - <заголовок> - <ссылка>\n",
    "\n",
    "Дополнительная часть (необязательная)\n",
    "Улучшить скрипт так, чтобы он анализировал не только preview-информацию статьи, но и весь текст статьи целиком.\n",
    "\n",
    "Для этого потребуется получать страницы статей и искать по тексту внутри этой страницы.\n",
    "\n",
    "Итоговый датафрейм формировать со столбцами: <дата> - <заголовок> - <ссылка> - <текст_статьи>"
   ]
  },
  {
   "cell_type": "code",
   "execution_count": 53,
   "metadata": {},
   "outputs": [],
   "source": [
    "KEYWORDS = ['python', 'парсинг']\n",
    "URL = 'https://habr.com/ru/all/'"
   ]
  },
  {
   "cell_type": "code",
   "execution_count": 57,
   "metadata": {},
   "outputs": [],
   "source": [
    "import requests\n",
    "from bs4 import BeautifulSoup\n",
    "import pandas as pd\n",
    "import time\n",
    "import regex"
   ]
  },
  {
   "cell_type": "code",
   "execution_count": 59,
   "metadata": {},
   "outputs": [],
   "source": [
    "def get_all_info(url, keywords, pages):\n",
    "    habr_posts = pd.DataFrame()\n",
    "    \n",
    "    for i in range(pages):\n",
    "        params = 'page' + str(i + 1)\n",
    "        res = requests.get(url+params)\n",
    "        time.sleep(0.3)\n",
    "        soup = BeautifulSoup(res.text, 'html.parser')\n",
    "        title_blocks = soup.find_all('h2', class_='post__title')\n",
    "        text_blocks = soup.find_all('div', class_='post__text post__text-html post__text_v1')\n",
    "        time_block = soup.find_all('span', class_='post__time')\n",
    "        titles = list(map(lambda x: x.find('a', class_='post__title_link').text, title_blocks))\n",
    "        linkes = list(map(lambda x: x.find('a').get('href'), title_blocks))\n",
    "        texts= list(map(lambda x: x.get_text(),text_blocks))\n",
    "        times = list(map(lambda x: x.get_text(), time_block))\n",
    "        infos = [list(tup) for tup in zip(times, titles, texts, linkes)]\n",
    "        for j in range(len(infos)):\n",
    "            if regex.search(r\"\\L<words>\", infos[j][1], words=keywords) or\\\n",
    "            regex.search(r\"\\L<words>\", infos[j][2], words=keywords):\n",
    "                row = {'Время': infos[j][0], 'Заголовок': infos[j][1], 'Текст': infos[j][2], 'Ссылка': infos[j][3]}\n",
    "                habr_posts = pd.concat([habr_posts, pd.DataFrame([row])]) \n",
    "                 \n",
    "    return habr_posts"
   ]
  },
  {
   "cell_type": "code",
   "execution_count": 60,
   "metadata": {},
   "outputs": [
    {
     "data": {
      "text/html": [
       "<div>\n",
       "<style scoped>\n",
       "    .dataframe tbody tr th:only-of-type {\n",
       "        vertical-align: middle;\n",
       "    }\n",
       "\n",
       "    .dataframe tbody tr th {\n",
       "        vertical-align: top;\n",
       "    }\n",
       "\n",
       "    .dataframe thead th {\n",
       "        text-align: right;\n",
       "    }\n",
       "</style>\n",
       "<table border=\"1\" class=\"dataframe\">\n",
       "  <thead>\n",
       "    <tr style=\"text-align: right;\">\n",
       "      <th></th>\n",
       "      <th>Время</th>\n",
       "      <th>Заголовок</th>\n",
       "      <th>Текст</th>\n",
       "      <th>Ссылка</th>\n",
       "    </tr>\n",
       "  </thead>\n",
       "  <tbody>\n",
       "    <tr>\n",
       "      <th>0</th>\n",
       "      <td>26 октября 2020 в 21:35</td>\n",
       "      <td>Рудиментарные дела. Кого, чему, зачем и что не...</td>\n",
       "      <td>\\n      Привет, друзья! Хорошая новость для мо...</td>\n",
       "      <td>https://habr.com/ru/post/525168/</td>\n",
       "    </tr>\n",
       "    <tr>\n",
       "      <th>0</th>\n",
       "      <td>22 октября 2020 в 11:47</td>\n",
       "      <td>Мелкая питонячая радость #11: реактивное прогр...</td>\n",
       "      <td>\\nВ данном руководстве мы рассмотрим подключен...</td>\n",
       "      <td>https://habr.com/ru/post/523878/</td>\n",
       "    </tr>\n",
       "  </tbody>\n",
       "</table>\n",
       "</div>"
      ],
      "text/plain": [
       "                     Время                                          Заголовок  \\\n",
       "0  26 октября 2020 в 21:35  Рудиментарные дела. Кого, чему, зачем и что не...   \n",
       "0  22 октября 2020 в 11:47  Мелкая питонячая радость #11: реактивное прогр...   \n",
       "\n",
       "                                               Текст  \\\n",
       "0  \\n      Привет, друзья! Хорошая новость для мо...   \n",
       "0  \\nВ данном руководстве мы рассмотрим подключен...   \n",
       "\n",
       "                             Ссылка  \n",
       "0  https://habr.com/ru/post/525168/  \n",
       "0  https://habr.com/ru/post/523878/  "
      ]
     },
     "execution_count": 60,
     "metadata": {},
     "output_type": "execute_result"
    }
   ],
   "source": [
    "all_links = get_all_info(URL, KEYWORDS, 30)\n",
    "all_links"
   ]
  },
  {
   "cell_type": "code",
   "execution_count": null,
   "metadata": {},
   "outputs": [],
   "source": []
  },
  {
   "cell_type": "code",
   "execution_count": null,
   "metadata": {},
   "outputs": [],
   "source": []
  },
  {
   "cell_type": "code",
   "execution_count": null,
   "metadata": {},
   "outputs": [],
   "source": []
  },
  {
   "cell_type": "code",
   "execution_count": null,
   "metadata": {},
   "outputs": [],
   "source": []
  }
 ],
 "metadata": {
  "kernelspec": {
   "display_name": "Python 3",
   "language": "python",
   "name": "python3"
  },
  "language_info": {
   "codemirror_mode": {
    "name": "ipython",
    "version": 3
   },
   "file_extension": ".py",
   "mimetype": "text/x-python",
   "name": "python",
   "nbconvert_exporter": "python",
   "pygments_lexer": "ipython3",
   "version": "3.8.3"
  }
 },
 "nbformat": 4,
 "nbformat_minor": 4
}
